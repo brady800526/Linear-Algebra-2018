{
 "cells": [
  {
   "cell_type": "code",
   "execution_count": 1,
   "id": "3db3c6f9",
   "metadata": {},
   "outputs": [],
   "source": [
    "import numpy as np\n",
    "import pandas as pd"
   ]
  },
  {
   "cell_type": "code",
   "execution_count": 2,
   "id": "af058158",
   "metadata": {},
   "outputs": [],
   "source": [
    "attrs = ['AMB', 'CH4', 'CO', 'NMHC', 'NO', 'NO2',\n",
    "        'NOx', 'O3', 'PM10', 'PM2.5', 'RAINFALL', 'RH',\n",
    "        'SO2', 'THC', 'WD_HR', 'WIND_DIR', 'WIND_SPEED', 'WS_HR']\n",
    "DAYS = np.array([31, 28, 31, 30, 31, 30, 31, 31, 30, 31, 30, 31])"
   ]
  },
  {
   "cell_type": "code",
   "execution_count": 677,
   "id": "50f9f784",
   "metadata": {},
   "outputs": [],
   "source": [
    "def read_TrainData(filename, N):\n",
    "    #N: how many hours to be as inputs\n",
    "    raw_data = pd.read_csv(filename).values\n",
    "    # 12 months, 20 days per month, 18 features per day. shape: (4320 , 24)\n",
    "    data = raw_data[:, 3:] #first 3 columns are not data\n",
    "    data = data.astype('float')\n",
    "    X, Y = [], []\n",
    "    for i in range(0, data.shape[0], 18*20):\n",
    "        # i: start of each month\n",
    "        days = np.vsplit(data[i:i+18*20], 20) # shape: 20 * (18, 24)\n",
    "        concat = np.concatenate(days, axis=1) # shape: (18 feat, 480(day*hr))\n",
    "        # take every N hours as x and N+1 hour as y\n",
    "        for j in range(0, concat.shape[1]-N):\n",
    "            features = concat[:, j:j+N].flatten() #the data of previous N hours\n",
    "            features = np.append(features, [1]) # add w0\n",
    "            X.append(features)\n",
    "            Y.append([concat[9, j+N]]) #9th feature is PM2.5\n",
    "    X = np.array(X)\n",
    "    Y = np.array(Y)\n",
    "    return X, Y"
   ]
  },
  {
   "cell_type": "code",
   "execution_count": 678,
   "id": "765a8a57",
   "metadata": {},
   "outputs": [],
   "source": [
    "#from 1/23 0am, 1am ..23pm... 2/23, 0am, .... ~ 12/31 23p.m, total 2424 hours\n",
    "#will give you a matrix 2424 * (18*N features you need)\n",
    "def read_TestData(filename, N):\n",
    "\t#only handle N <= 48(2 days)\n",
    "    assert N <= 48\n",
    "    raw_data = pd.read_csv(filename).values\n",
    "    data = raw_data[:, 3:]\n",
    "    data = data.astype('float')\n",
    "    surplus = DAYS - 20 #remaining days in each month after 20th\n",
    "    test_X = []\n",
    "    test_Y = [] #ground truth\n",
    "    for i in range(12): # 12 month\n",
    "        # i: start of each month\n",
    "        start = sum(surplus[:i])*18\n",
    "        end = sum(surplus[:i+1])*18\n",
    "        days = np.vsplit(data[start:end], surplus[i])\n",
    "        concat = np.concatenate(days, axis=1) # shape: (18 feat, (day*hr))\n",
    "        for j in range(48, concat.shape[1]): #every month starts from 23th\n",
    "            features = concat[:, j-N:j].flatten()\n",
    "            features = np.append(features, [1]) # add w0\n",
    "            test_X.append(features)\n",
    "            test_Y.append([concat[9, j]])\n",
    "    test_X = np.array(test_X)\n",
    "    test_Y = np.array(test_Y)\n",
    "    return test_X, test_Y"
   ]
  },
  {
   "cell_type": "code",
   "execution_count": 575,
   "id": "d197e1db",
   "metadata": {},
   "outputs": [],
   "source": [
    "# Q1: Implement Linear Regression"
   ]
  },
  {
   "cell_type": "code",
   "execution_count": 664,
   "id": "2f8b4c58",
   "metadata": {},
   "outputs": [],
   "source": [
    "class Linear_Regression(object):\n",
    "    def __init__(self, N):\n",
    "        self.W = np.zeros(18*N + 1)\n",
    "        self.alpha = 10e-7\n",
    "    def train(self, train_X, train_Y):\n",
    "        train_Y = train_Y\n",
    "        error = train_Y - train_X @ self.W\n",
    "        gradient = (-1.0/len(train_X)) * error @ train_X\n",
    "        self.W = self.W - self.alpha * gradient\n",
    "        return MSE(train_X @ self.W, train_Y)\n",
    "    def predict(self, test_X):\n",
    "        predict_Y = test_X.dot(self.W)\n",
    "        return predict_Y"
   ]
  },
  {
   "cell_type": "code",
   "execution_count": 635,
   "id": "7fc471b0",
   "metadata": {},
   "outputs": [],
   "source": [
    "def MSE(predict_Y, real_Y):\n",
    "    return np.square(real_Y - predict_Y).mean()"
   ]
  },
  {
   "cell_type": "code",
   "execution_count": 636,
   "id": "b3122172",
   "metadata": {},
   "outputs": [],
   "source": [
    "# Q2: Update the weight 48 times to demonstrate the pattern"
   ]
  },
  {
   "cell_type": "code",
   "execution_count": 667,
   "id": "80027c7a",
   "metadata": {},
   "outputs": [],
   "source": [
    "N = 20\n",
    "training_losses = []\n",
    "testing_losses = []\n",
    "train_X, train_Y = read_TrainData('train.csv', N=N)\n",
    "model = Linear_Regression(N)\n",
    "test_X, test_Y = read_TestData('test.csv', N=N)\n",
    "train_Y = train_Y.squeeze()\n",
    "test_Y = test_Y.squeeze()\n",
    "\n",
    "for n in range(1000):\n",
    "    training_loss = model.train(train_X, train_Y)\n",
    "    predict_Y = model.predict(test_X)\n",
    "    testing_loss = MSE(predict_Y, test_Y)\n",
    "    training_losses.append(training_loss)\n",
    "    testing_losses.append(testing_loss)"
   ]
  },
  {
   "cell_type": "code",
   "execution_count": 676,
   "id": "4ee29ac9",
   "metadata": {},
   "outputs": [
    {
     "data": {
      "image/png": "[encoded data removed]",
      "text/plain": [
       "<Figure size 864x576 with 1 Axes>"
      ]
     },
     "metadata": {
      "needs_background": "light"
     },
     "output_type": "display_data"
    }
   ],
   "source": [
    "import matplotlib.pyplot as plt\n",
    "\n",
    "def plotting(train_set_loss, test_set_loss):\n",
    "    assert len(train_set_loss) == len(test_set_loss)\n",
    "    length = len(train_set_loss)\n",
    "    plt.figure(figsize=(12,8))\n",
    "    plt.xticks(range(0, len(train_set_loss)+1, 50))\n",
    "    plt.plot(range(1, length+1), train_set_loss, 'b', label='train loss')\n",
    "    plt.plot(range(1, length+1), test_set_loss, 'r', label='test loss')\n",
    "    plt.axhline(y=26.539788700003058, color='black', linestyle='-')\n",
    "    plt.legend()\n",
    "    plt.xlabel('N')\n",
    "    plt.ylabel('MSE loss')\n",
    "\n",
    "plotting(training_losses, testing_losses)"
   ]
  },
  {
   "cell_type": "code",
   "execution_count": 453,
   "id": "6d8bea85",
   "metadata": {},
   "outputs": [],
   "source": [
    "# Q3: Find the optimistic weight by formula"
   ]
  },
  {
   "cell_type": "code",
   "execution_count": 671,
   "id": "29cc4c80",
   "metadata": {},
   "outputs": [],
   "source": [
    "best_w = (np.linalg.inv(train_X.T @ train_X) @ train_X.T) @ train_Y"
   ]
  },
  {
   "cell_type": "code",
   "execution_count": 673,
   "id": "cd4f2bf3",
   "metadata": {},
   "outputs": [
    {
     "data": {
      "text/plain": [
       "26.539788700003058"
      ]
     },
     "execution_count": 673,
     "metadata": {},
     "output_type": "execute_result"
    }
   ],
   "source": [
    "MSE(train_X @ best_w, train_Y)"
   ]
  },
  {
   "cell_type": "code",
   "execution_count": 674,
   "id": "a0a319b7",
   "metadata": {},
   "outputs": [
    {
     "data": {
      "text/plain": [
       "26.2063036925921"
      ]
     },
     "execution_count": 674,
     "metadata": {},
     "output_type": "execute_result"
    }
   ],
   "source": [
    "MSE(test_X @ best_w, test_Y)"
   ]
  }
 ],
 "metadata": {
  "kernelspec": {
   "display_name": "Python 3",
   "language": "python",
   "name": "python3"
  },
  "language_info": {
   "codemirror_mode": {
    "name": "ipython",
    "version": 3
   },
   "file_extension": ".py",
   "mimetype": "text/x-python",
   "name": "python",
   "nbconvert_exporter": "python",
   "pygments_lexer": "ipython3",
   "version": "3.8.2"
  }
 },
 "nbformat": 4,
 "nbformat_minor": 5
}
